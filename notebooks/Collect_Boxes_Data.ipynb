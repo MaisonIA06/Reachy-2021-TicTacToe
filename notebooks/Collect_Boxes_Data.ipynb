{
  "cells": [
    {
      "cell_type": "markdown",
      "metadata": {},
      "source": [
        "# Collecte d'images pour le modèle de détection des cases\n",
        "\n",
        "Ce notebook vous guide pour collecter les images nécessaires à l'entraînement du modèle **ttt-boxes.tflite**.\n",
        "\n",
        "## Objectif\n",
        "Collecter environ **300-500 images par classe** :\n",
        "- **empty** : cases vides\n",
        "- **cube** : cases avec un cube (pièce du joueur humain)\n",
        "- **cylinder** : cases avec un cylindre (pièce de Reachy)\n",
        "\n",
        "## Stratégie\n",
        "1. Prendre une photo du plateau complet\n",
        "2. Découper automatiquement les 9 cases\n",
        "3. Sauvegarder dans le bon dossier\n",
        "4. Répéter avec différentes configurations\n",
        "\n",
        "## Temps estimé\n",
        "1.5 à 2 heures (peut être fait en plusieurs sessions)\n"
      ]
    }
  ],
  "metadata": {
    "language_info": {
      "name": "python"
    }
  },
  "nbformat": 4,
  "nbformat_minor": 2
}
